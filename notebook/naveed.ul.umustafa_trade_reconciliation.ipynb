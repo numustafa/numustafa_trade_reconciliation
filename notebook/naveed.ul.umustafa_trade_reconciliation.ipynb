{
 "cells": [
  {
   "cell_type": "markdown",
   "id": "1645bd03",
   "metadata": {},
   "source": [
    "# Trade Reconciliation Between Internal and Clearer Data\n",
    "This assessment is designed to evaluate the skills and understanding of a candidate in reconciling trade data between internal records and clearer records. My solution will involve comparing two datasets, and follow the instructions provided in the brief:\n",
    "\n",
    "1. Understand the structure of the datasets. \n",
    "   * Internal data and clearer data are provided in xlsx format. The internal data contains a trade for 2nd quarter which comprise of 2025-04, 2025-05, and 2025-06 months. In addition to this, 2025-04 & 2025-05 months also contains an individual trade. \n",
    "2. Decompose the quarter trades into individual month trades.\n",
    "    * The quarter trades will be split into individual month trades for April, May, and June. The goal is to identically divide the quarter trades into individual month trades, and merge trades for 2025-04 and 2025-05 months, with avg price. \n",
    "3. Net Internal Positions <br>\n",
    "\n",
    "4. Reconciliation of the net internal positions with the clearer data.\n",
    "    * The reconciliation will involve comparing the net internal positions with the clearer data to identify any discrepancies. This will include checking for differences in quantities and prices, and resolving any mismatches."
   ]
  },
  {
   "cell_type": "markdown",
   "id": "34c76207",
   "metadata": {},
   "source": [
    "## 1.1 Importing Required Libraries\n"
   ]
  },
  {
   "cell_type": "code",
   "execution_count": 1,
   "id": "a3563ad4",
   "metadata": {},
   "outputs": [],
   "source": [
    "# Setup and Imports\n",
    "\n",
    "import pandas as pd\n",
    "import numpy as np\n",
    "import matplotlib.pyplot as plt\n",
    "\n",
    "# Import Utilities\n",
    "import sys\n",
    "sys.path.insert(0, '..')  # Go up one directory to project root\n",
    "\n",
    "from utils.data_loader import load_data\n",
    "from utils.reconciliation import convert_qtr_into_months, net_monthly_trades, reconcile_trades, print_reconciliation_summary  # This is correct nowcorrect now"
   ]
  },
  {
   "cell_type": "markdown",
   "id": "937758ef",
   "metadata": {},
   "source": [
    "## 1.2 Loading the Data\n"
   ]
  },
  {
   "cell_type": "code",
   "execution_count": 2,
   "id": "5f6dfe43",
   "metadata": {},
   "outputs": [
    {
     "data": {
      "text/plain": [
       "'d:\\\\numustafa_trade_reconciliation\\\\notebook'"
      ]
     },
     "execution_count": 2,
     "metadata": {},
     "output_type": "execute_result"
    }
   ],
   "source": [
    "pwd"
   ]
  },
  {
   "cell_type": "code",
   "execution_count": 3,
   "id": "5fc69107",
   "metadata": {},
   "outputs": [
    {
     "name": "stdout",
     "output_type": "stream",
     "text": [
      "Internal Data Shape: (4, 5)\n",
      "Clearer Data Shape: (4, 3)\n"
     ]
    }
   ],
   "source": [
    "internal_data = load_data('../data/internal_trade_data.xlsx')\n",
    "clearer_data = load_data('../data/clearer_trade_data.xlsx')\n",
    "\n",
    "\n",
    "print(f\"Internal Data Shape: {internal_data.shape}\")\n",
    "print(f\"Clearer Data Shape: {clearer_data.shape}\")"
   ]
  },
  {
   "cell_type": "code",
   "execution_count": 4,
   "id": "28525c37",
   "metadata": {},
   "outputs": [],
   "source": [
    "df_internal = internal_data.copy()\n",
    "df_clearer = clearer_data.copy()"
   ]
  },
  {
   "cell_type": "code",
   "execution_count": 5,
   "id": "b15bfbb2",
   "metadata": {},
   "outputs": [
    {
     "data": {
      "text/html": [
       "<div>\n",
       "<style scoped>\n",
       "    .dataframe tbody tr th:only-of-type {\n",
       "        vertical-align: middle;\n",
       "    }\n",
       "\n",
       "    .dataframe tbody tr th {\n",
       "        vertical-align: top;\n",
       "    }\n",
       "\n",
       "    .dataframe thead th {\n",
       "        text-align: right;\n",
       "    }\n",
       "</style>\n",
       "<table border=\"1\" class=\"dataframe\">\n",
       "  <thead>\n",
       "    <tr style=\"text-align: right;\">\n",
       "      <th></th>\n",
       "      <th>trade_id</th>\n",
       "      <th>contract_type</th>\n",
       "      <th>contract_period</th>\n",
       "      <th>quantity_mwh</th>\n",
       "      <th>price_eur_per_mwh</th>\n",
       "    </tr>\n",
       "  </thead>\n",
       "  <tbody>\n",
       "    <tr>\n",
       "      <th>0</th>\n",
       "      <td>1</td>\n",
       "      <td>Outright</td>\n",
       "      <td>2025-03</td>\n",
       "      <td>100</td>\n",
       "      <td>30</td>\n",
       "    </tr>\n",
       "    <tr>\n",
       "      <th>1</th>\n",
       "      <td>2</td>\n",
       "      <td>Outright</td>\n",
       "      <td>2025-04</td>\n",
       "      <td>200</td>\n",
       "      <td>31</td>\n",
       "    </tr>\n",
       "    <tr>\n",
       "      <th>2</th>\n",
       "      <td>3</td>\n",
       "      <td>Outright</td>\n",
       "      <td>2025-05</td>\n",
       "      <td>250</td>\n",
       "      <td>32</td>\n",
       "    </tr>\n",
       "    <tr>\n",
       "      <th>3</th>\n",
       "      <td>4</td>\n",
       "      <td>Outright Quarter</td>\n",
       "      <td>Q225</td>\n",
       "      <td>300</td>\n",
       "      <td>33</td>\n",
       "    </tr>\n",
       "  </tbody>\n",
       "</table>\n",
       "</div>"
      ],
      "text/plain": [
       "   trade_id     contract_type contract_period  quantity_mwh  price_eur_per_mwh\n",
       "0         1          Outright         2025-03           100                 30\n",
       "1         2          Outright         2025-04           200                 31\n",
       "2         3          Outright         2025-05           250                 32\n",
       "3         4  Outright Quarter            Q225           300                 33"
      ]
     },
     "metadata": {},
     "output_type": "display_data"
    }
   ],
   "source": [
    "display(df_internal)"
   ]
  },
  {
   "cell_type": "code",
   "execution_count": 6,
   "id": "aff7aced",
   "metadata": {},
   "outputs": [
    {
     "data": {
      "text/html": [
       "<div>\n",
       "<style scoped>\n",
       "    .dataframe tbody tr th:only-of-type {\n",
       "        vertical-align: middle;\n",
       "    }\n",
       "\n",
       "    .dataframe tbody tr th {\n",
       "        vertical-align: top;\n",
       "    }\n",
       "\n",
       "    .dataframe thead th {\n",
       "        text-align: right;\n",
       "    }\n",
       "</style>\n",
       "<table border=\"1\" class=\"dataframe\">\n",
       "  <thead>\n",
       "    <tr style=\"text-align: right;\">\n",
       "      <th></th>\n",
       "      <th>delivery_month</th>\n",
       "      <th>quantity_mwh</th>\n",
       "      <th>price_eur_per_mwh</th>\n",
       "    </tr>\n",
       "  </thead>\n",
       "  <tbody>\n",
       "    <tr>\n",
       "      <th>0</th>\n",
       "      <td>2025-03</td>\n",
       "      <td>100</td>\n",
       "      <td>30.0</td>\n",
       "    </tr>\n",
       "    <tr>\n",
       "      <th>1</th>\n",
       "      <td>2025-04</td>\n",
       "      <td>500</td>\n",
       "      <td>32.0</td>\n",
       "    </tr>\n",
       "    <tr>\n",
       "      <th>2</th>\n",
       "      <td>2025-05</td>\n",
       "      <td>550</td>\n",
       "      <td>32.5</td>\n",
       "    </tr>\n",
       "    <tr>\n",
       "      <th>3</th>\n",
       "      <td>2025-06</td>\n",
       "      <td>300</td>\n",
       "      <td>33.0</td>\n",
       "    </tr>\n",
       "  </tbody>\n",
       "</table>\n",
       "</div>"
      ],
      "text/plain": [
       "  delivery_month  quantity_mwh  price_eur_per_mwh\n",
       "0        2025-03           100               30.0\n",
       "1        2025-04           500               32.0\n",
       "2        2025-05           550               32.5\n",
       "3        2025-06           300               33.0"
      ]
     },
     "metadata": {},
     "output_type": "display_data"
    }
   ],
   "source": [
    "display(df_clearer)"
   ]
  },
  {
   "cell_type": "markdown",
   "id": "af5febaf",
   "metadata": {},
   "source": []
  },
  {
   "cell_type": "code",
   "execution_count": 7,
   "id": "39803f4e",
   "metadata": {},
   "outputs": [
    {
     "name": "stdout",
     "output_type": "stream",
     "text": [
      "Quarter Data: trade_id                            4\n",
      "contract_type        Outright Quarter\n",
      "contract_period                  Q225\n",
      "quantity_mwh                      300\n",
      "price_eur_per_mwh                  33\n",
      "Name: 3, dtype: object\n"
     ]
    }
   ],
   "source": [
    "quarter_data = df_internal.iloc[3]\n",
    "print(f\"Quarter Data: {quarter_data}\")"
   ]
  },
  {
   "cell_type": "code",
   "execution_count": 8,
   "id": "e6b777d8",
   "metadata": {},
   "outputs": [
    {
     "name": "stdout",
     "output_type": "stream",
     "text": [
      "Converted Data:    trade_id         contract_type contract_period  quantity_mwh  \\\n",
      "0         1  Quarterly decomposed         2025-04         100.0   \n",
      "1         2  Quarterly decomposed         2025-05         100.0   \n",
      "2         3  Quarterly decomposed         2025-06         100.0   \n",
      "\n",
      "   price_eur_per_mwh  \n",
      "0                 33  \n",
      "1                 33  \n",
      "2                 33  \n"
     ]
    }
   ],
   "source": [
    "convert = convert_qtr_into_months(quarter_data)\n",
    "print(f\"Converted Data: {convert}\")"
   ]
  },
  {
   "cell_type": "code",
   "execution_count": 9,
   "id": "262ed90d",
   "metadata": {},
   "outputs": [
    {
     "data": {
      "text/plain": [
       "trade_id               int64\n",
       "contract_type         object\n",
       "contract_period       object\n",
       "quantity_mwh         float64\n",
       "price_eur_per_mwh      int64\n",
       "dtype: object"
      ]
     },
     "execution_count": 9,
     "metadata": {},
     "output_type": "execute_result"
    }
   ],
   "source": [
    "convert.dtypes"
   ]
  },
  {
   "cell_type": "code",
   "execution_count": 10,
   "id": "7653d70a",
   "metadata": {},
   "outputs": [
    {
     "data": {
      "text/html": [
       "<div>\n",
       "<style scoped>\n",
       "    .dataframe tbody tr th:only-of-type {\n",
       "        vertical-align: middle;\n",
       "    }\n",
       "\n",
       "    .dataframe tbody tr th {\n",
       "        vertical-align: top;\n",
       "    }\n",
       "\n",
       "    .dataframe thead th {\n",
       "        text-align: right;\n",
       "    }\n",
       "</style>\n",
       "<table border=\"1\" class=\"dataframe\">\n",
       "  <thead>\n",
       "    <tr style=\"text-align: right;\">\n",
       "      <th></th>\n",
       "      <th>trade_id</th>\n",
       "      <th>contract_type</th>\n",
       "      <th>contract_period</th>\n",
       "      <th>quantity_mwh</th>\n",
       "      <th>price_eur_per_mwh</th>\n",
       "    </tr>\n",
       "  </thead>\n",
       "  <tbody>\n",
       "    <tr>\n",
       "      <th>0</th>\n",
       "      <td>1</td>\n",
       "      <td>Outright</td>\n",
       "      <td>2025-03</td>\n",
       "      <td>100</td>\n",
       "      <td>30</td>\n",
       "    </tr>\n",
       "    <tr>\n",
       "      <th>1</th>\n",
       "      <td>2</td>\n",
       "      <td>Outright</td>\n",
       "      <td>2025-04</td>\n",
       "      <td>200</td>\n",
       "      <td>31</td>\n",
       "    </tr>\n",
       "    <tr>\n",
       "      <th>2</th>\n",
       "      <td>3</td>\n",
       "      <td>Outright</td>\n",
       "      <td>2025-05</td>\n",
       "      <td>250</td>\n",
       "      <td>32</td>\n",
       "    </tr>\n",
       "  </tbody>\n",
       "</table>\n",
       "</div>"
      ],
      "text/plain": [
       "   trade_id contract_type contract_period  quantity_mwh  price_eur_per_mwh\n",
       "0         1      Outright         2025-03           100                 30\n",
       "1         2      Outright         2025-04           200                 31\n",
       "2         3      Outright         2025-05           250                 32"
      ]
     },
     "execution_count": 10,
     "metadata": {},
     "output_type": "execute_result"
    }
   ],
   "source": [
    "# drop the last row\n",
    "df_internal = df_internal.drop(df_internal.index[-1])\n",
    "df_internal"
   ]
  },
  {
   "cell_type": "code",
   "execution_count": 11,
   "id": "91af5c52",
   "metadata": {},
   "outputs": [
    {
     "data": {
      "text/html": [
       "<div>\n",
       "<style scoped>\n",
       "    .dataframe tbody tr th:only-of-type {\n",
       "        vertical-align: middle;\n",
       "    }\n",
       "\n",
       "    .dataframe tbody tr th {\n",
       "        vertical-align: top;\n",
       "    }\n",
       "\n",
       "    .dataframe thead th {\n",
       "        text-align: right;\n",
       "    }\n",
       "</style>\n",
       "<table border=\"1\" class=\"dataframe\">\n",
       "  <thead>\n",
       "    <tr style=\"text-align: right;\">\n",
       "      <th></th>\n",
       "      <th>trade_id</th>\n",
       "      <th>contract_type</th>\n",
       "      <th>contract_period</th>\n",
       "      <th>quantity_mwh</th>\n",
       "      <th>price_eur_per_mwh</th>\n",
       "    </tr>\n",
       "  </thead>\n",
       "  <tbody>\n",
       "    <tr>\n",
       "      <th>0</th>\n",
       "      <td>1</td>\n",
       "      <td>Outright</td>\n",
       "      <td>2025-03</td>\n",
       "      <td>100.0</td>\n",
       "      <td>30</td>\n",
       "    </tr>\n",
       "    <tr>\n",
       "      <th>1</th>\n",
       "      <td>2</td>\n",
       "      <td>Outright</td>\n",
       "      <td>2025-04</td>\n",
       "      <td>200.0</td>\n",
       "      <td>31</td>\n",
       "    </tr>\n",
       "    <tr>\n",
       "      <th>2</th>\n",
       "      <td>3</td>\n",
       "      <td>Outright</td>\n",
       "      <td>2025-05</td>\n",
       "      <td>250.0</td>\n",
       "      <td>32</td>\n",
       "    </tr>\n",
       "    <tr>\n",
       "      <th>3</th>\n",
       "      <td>1</td>\n",
       "      <td>Quarterly decomposed</td>\n",
       "      <td>2025-04</td>\n",
       "      <td>100.0</td>\n",
       "      <td>33</td>\n",
       "    </tr>\n",
       "    <tr>\n",
       "      <th>4</th>\n",
       "      <td>2</td>\n",
       "      <td>Quarterly decomposed</td>\n",
       "      <td>2025-05</td>\n",
       "      <td>100.0</td>\n",
       "      <td>33</td>\n",
       "    </tr>\n",
       "    <tr>\n",
       "      <th>5</th>\n",
       "      <td>3</td>\n",
       "      <td>Quarterly decomposed</td>\n",
       "      <td>2025-06</td>\n",
       "      <td>100.0</td>\n",
       "      <td>33</td>\n",
       "    </tr>\n",
       "  </tbody>\n",
       "</table>\n",
       "</div>"
      ],
      "text/plain": [
       "   trade_id         contract_type contract_period  quantity_mwh  \\\n",
       "0         1              Outright         2025-03         100.0   \n",
       "1         2              Outright         2025-04         200.0   \n",
       "2         3              Outright         2025-05         250.0   \n",
       "3         1  Quarterly decomposed         2025-04         100.0   \n",
       "4         2  Quarterly decomposed         2025-05         100.0   \n",
       "5         3  Quarterly decomposed         2025-06         100.0   \n",
       "\n",
       "   price_eur_per_mwh  \n",
       "0                 30  \n",
       "1                 31  \n",
       "2                 32  \n",
       "3                 33  \n",
       "4                 33  \n",
       "5                 33  "
      ]
     },
     "execution_count": 11,
     "metadata": {},
     "output_type": "execute_result"
    }
   ],
   "source": [
    "# add the new monthly rows to the dataframe\n",
    "df_internal_new = pd.concat([df_internal, convert], ignore_index=True)\n",
    "df_internal_new "
   ]
  },
  {
   "cell_type": "code",
   "execution_count": 12,
   "id": "cb0a5ace",
   "metadata": {},
   "outputs": [
    {
     "name": "stdout",
     "output_type": "stream",
     "text": [
      "Internal Data Proper Shape: (4, 4)\n"
     ]
    },
    {
     "data": {
      "text/html": [
       "<div>\n",
       "<style scoped>\n",
       "    .dataframe tbody tr th:only-of-type {\n",
       "        vertical-align: middle;\n",
       "    }\n",
       "\n",
       "    .dataframe tbody tr th {\n",
       "        vertical-align: top;\n",
       "    }\n",
       "\n",
       "    .dataframe thead th {\n",
       "        text-align: right;\n",
       "    }\n",
       "</style>\n",
       "<table border=\"1\" class=\"dataframe\">\n",
       "  <thead>\n",
       "    <tr style=\"text-align: right;\">\n",
       "      <th></th>\n",
       "      <th>contract_type</th>\n",
       "      <th>contract_period</th>\n",
       "      <th>quantity_mwh</th>\n",
       "      <th>price_eur_per_mwh</th>\n",
       "    </tr>\n",
       "  </thead>\n",
       "  <tbody>\n",
       "    <tr>\n",
       "      <th>0</th>\n",
       "      <td>Net Monthly Trade</td>\n",
       "      <td>2025-03</td>\n",
       "      <td>100</td>\n",
       "      <td>30.0</td>\n",
       "    </tr>\n",
       "    <tr>\n",
       "      <th>1</th>\n",
       "      <td>Net Monthly Trade</td>\n",
       "      <td>2025-04</td>\n",
       "      <td>300</td>\n",
       "      <td>31.7</td>\n",
       "    </tr>\n",
       "    <tr>\n",
       "      <th>2</th>\n",
       "      <td>Net Monthly Trade</td>\n",
       "      <td>2025-05</td>\n",
       "      <td>350</td>\n",
       "      <td>32.3</td>\n",
       "    </tr>\n",
       "    <tr>\n",
       "      <th>3</th>\n",
       "      <td>Net Monthly Trade</td>\n",
       "      <td>2025-06</td>\n",
       "      <td>100</td>\n",
       "      <td>33.0</td>\n",
       "    </tr>\n",
       "  </tbody>\n",
       "</table>\n",
       "</div>"
      ],
      "text/plain": [
       "       contract_type contract_period  quantity_mwh  price_eur_per_mwh\n",
       "0  Net Monthly Trade         2025-03           100               30.0\n",
       "1  Net Monthly Trade         2025-04           300               31.7\n",
       "2  Net Monthly Trade         2025-05           350               32.3\n",
       "3  Net Monthly Trade         2025-06           100               33.0"
      ]
     },
     "execution_count": 12,
     "metadata": {},
     "output_type": "execute_result"
    }
   ],
   "source": [
    "df_internal_proper = net_monthly_trades(df_internal_new)\n",
    "print(f\"Internal Data Proper Shape: {df_internal_proper.shape}\")\n",
    "df_internal_proper"
   ]
  },
  {
   "cell_type": "code",
   "execution_count": 13,
   "id": "bb7c6896",
   "metadata": {},
   "outputs": [
    {
     "data": {
      "text/html": [
       "<div>\n",
       "<style scoped>\n",
       "    .dataframe tbody tr th:only-of-type {\n",
       "        vertical-align: middle;\n",
       "    }\n",
       "\n",
       "    .dataframe tbody tr th {\n",
       "        vertical-align: top;\n",
       "    }\n",
       "\n",
       "    .dataframe thead th {\n",
       "        text-align: right;\n",
       "    }\n",
       "</style>\n",
       "<table border=\"1\" class=\"dataframe\">\n",
       "  <thead>\n",
       "    <tr style=\"text-align: right;\">\n",
       "      <th></th>\n",
       "      <th>delivery_month</th>\n",
       "      <th>quantity_mwh</th>\n",
       "      <th>price_eur_per_mwh</th>\n",
       "    </tr>\n",
       "  </thead>\n",
       "  <tbody>\n",
       "    <tr>\n",
       "      <th>0</th>\n",
       "      <td>2025-03</td>\n",
       "      <td>100</td>\n",
       "      <td>30.0</td>\n",
       "    </tr>\n",
       "    <tr>\n",
       "      <th>1</th>\n",
       "      <td>2025-04</td>\n",
       "      <td>500</td>\n",
       "      <td>32.0</td>\n",
       "    </tr>\n",
       "    <tr>\n",
       "      <th>2</th>\n",
       "      <td>2025-05</td>\n",
       "      <td>550</td>\n",
       "      <td>32.5</td>\n",
       "    </tr>\n",
       "    <tr>\n",
       "      <th>3</th>\n",
       "      <td>2025-06</td>\n",
       "      <td>300</td>\n",
       "      <td>33.0</td>\n",
       "    </tr>\n",
       "  </tbody>\n",
       "</table>\n",
       "</div>"
      ],
      "text/plain": [
       "  delivery_month  quantity_mwh  price_eur_per_mwh\n",
       "0        2025-03           100               30.0\n",
       "1        2025-04           500               32.0\n",
       "2        2025-05           550               32.5\n",
       "3        2025-06           300               33.0"
      ]
     },
     "execution_count": 13,
     "metadata": {},
     "output_type": "execute_result"
    }
   ],
   "source": [
    "df_clearer"
   ]
  },
  {
   "cell_type": "code",
   "execution_count": 14,
   "id": "531c8af9",
   "metadata": {},
   "outputs": [
    {
     "data": {
      "text/plain": [
       "contract_type         object\n",
       "contract_period       object\n",
       "quantity_mwh           int64\n",
       "price_eur_per_mwh    float64\n",
       "dtype: object"
      ]
     },
     "execution_count": 14,
     "metadata": {},
     "output_type": "execute_result"
    }
   ],
   "source": [
    "df_internal_proper.dtypes\n"
   ]
  },
  {
   "cell_type": "code",
   "execution_count": 15,
   "id": "20eba348",
   "metadata": {},
   "outputs": [
    {
     "data": {
      "text/plain": [
       "delivery_month        object\n",
       "quantity_mwh           int64\n",
       "price_eur_per_mwh    float64\n",
       "dtype: object"
      ]
     },
     "execution_count": 15,
     "metadata": {},
     "output_type": "execute_result"
    }
   ],
   "source": [
    "df_clearer.dtypes"
   ]
  },
  {
   "cell_type": "code",
   "execution_count": 16,
   "id": "bac0caa3",
   "metadata": {},
   "outputs": [],
   "source": [
    "# rename months to the same column name\n",
    "df_int  = df_internal_proper.rename(columns={\"contract_period\": \"month\"})\n",
    "df_clr  = df_clearer.rename(columns={\"delivery_month\": \"month\"})"
   ]
  },
  {
   "cell_type": "code",
   "execution_count": 17,
   "id": "6d66a0b1",
   "metadata": {},
   "outputs": [
    {
     "data": {
      "text/plain": [
       "contract_type         object\n",
       "month                 object\n",
       "quantity_mwh           int64\n",
       "price_eur_per_mwh    float64\n",
       "dtype: object"
      ]
     },
     "execution_count": 17,
     "metadata": {},
     "output_type": "execute_result"
    }
   ],
   "source": [
    "df_int.dtypes"
   ]
  },
  {
   "cell_type": "code",
   "execution_count": 18,
   "id": "bcbeb8f2",
   "metadata": {},
   "outputs": [
    {
     "data": {
      "text/plain": [
       "month                 object\n",
       "quantity_mwh           int64\n",
       "price_eur_per_mwh    float64\n",
       "dtype: object"
      ]
     },
     "execution_count": 18,
     "metadata": {},
     "output_type": "execute_result"
    }
   ],
   "source": [
    "df_clr.dtypes"
   ]
  },
  {
   "cell_type": "code",
   "execution_count": 19,
   "id": "aac59fc3",
   "metadata": {},
   "outputs": [
    {
     "name": "stdout",
     "output_type": "stream",
     "text": [
      "Reconciled Data Shape: (4, 7)\n"
     ]
    },
    {
     "data": {
      "text/html": [
       "<div>\n",
       "<style scoped>\n",
       "    .dataframe tbody tr th:only-of-type {\n",
       "        vertical-align: middle;\n",
       "    }\n",
       "\n",
       "    .dataframe tbody tr th {\n",
       "        vertical-align: top;\n",
       "    }\n",
       "\n",
       "    .dataframe thead th {\n",
       "        text-align: right;\n",
       "    }\n",
       "</style>\n",
       "<table border=\"1\" class=\"dataframe\">\n",
       "  <thead>\n",
       "    <tr style=\"text-align: right;\">\n",
       "      <th></th>\n",
       "      <th>month</th>\n",
       "      <th>quantity_mwh_internal</th>\n",
       "      <th>quantity_mwh_clearer</th>\n",
       "      <th>quantity_diff</th>\n",
       "      <th>price_eur_per_mwh_internal</th>\n",
       "      <th>price_eur_per_mwh_clearer</th>\n",
       "      <th>price_diff</th>\n",
       "    </tr>\n",
       "  </thead>\n",
       "  <tbody>\n",
       "    <tr>\n",
       "      <th>0</th>\n",
       "      <td>2025-03</td>\n",
       "      <td>100</td>\n",
       "      <td>100</td>\n",
       "      <td>0</td>\n",
       "      <td>30.0</td>\n",
       "      <td>30.0</td>\n",
       "      <td>0.0</td>\n",
       "    </tr>\n",
       "    <tr>\n",
       "      <th>1</th>\n",
       "      <td>2025-04</td>\n",
       "      <td>300</td>\n",
       "      <td>500</td>\n",
       "      <td>-200</td>\n",
       "      <td>31.7</td>\n",
       "      <td>32.0</td>\n",
       "      <td>-0.3</td>\n",
       "    </tr>\n",
       "    <tr>\n",
       "      <th>2</th>\n",
       "      <td>2025-05</td>\n",
       "      <td>350</td>\n",
       "      <td>550</td>\n",
       "      <td>-200</td>\n",
       "      <td>32.3</td>\n",
       "      <td>32.5</td>\n",
       "      <td>-0.2</td>\n",
       "    </tr>\n",
       "    <tr>\n",
       "      <th>3</th>\n",
       "      <td>2025-06</td>\n",
       "      <td>100</td>\n",
       "      <td>300</td>\n",
       "      <td>-200</td>\n",
       "      <td>33.0</td>\n",
       "      <td>33.0</td>\n",
       "      <td>0.0</td>\n",
       "    </tr>\n",
       "  </tbody>\n",
       "</table>\n",
       "</div>"
      ],
      "text/plain": [
       "     month  quantity_mwh_internal  quantity_mwh_clearer  quantity_diff  \\\n",
       "0  2025-03                    100                   100              0   \n",
       "1  2025-04                    300                   500           -200   \n",
       "2  2025-05                    350                   550           -200   \n",
       "3  2025-06                    100                   300           -200   \n",
       "\n",
       "   price_eur_per_mwh_internal  price_eur_per_mwh_clearer  price_diff  \n",
       "0                        30.0                       30.0         0.0  \n",
       "1                        31.7                       32.0        -0.3  \n",
       "2                        32.3                       32.5        -0.2  \n",
       "3                        33.0                       33.0         0.0  "
      ]
     },
     "execution_count": 19,
     "metadata": {},
     "output_type": "execute_result"
    }
   ],
   "source": [
    "# Merge the two dataframes on the month column\n",
    "new = reconcile_trades(df_int, df_clr)\n",
    "print(f\"Reconciled Data Shape: {new.shape}\")\n",
    "new "
   ]
  },
  {
   "cell_type": "code",
   "execution_count": 20,
   "id": "64ae6431",
   "metadata": {},
   "outputs": [
    {
     "name": "stdout",
     "output_type": "stream",
     "text": [
      "Reconciliation Summary:\n",
      "     month  quantity_mwh_internal  quantity_mwh_clearer  quantity_diff  \\\n",
      "0  2025-03                    100                   100              0   \n",
      "1  2025-04                    300                   500           -200   \n",
      "2  2025-05                    350                   550           -200   \n",
      "3  2025-06                    100                   300           -200   \n",
      "\n",
      "   price_eur_per_mwh_internal  price_eur_per_mwh_clearer  price_diff  \n",
      "0                        30.0                       30.0         0.0  \n",
      "1                        31.7                       32.0        -0.3  \n",
      "2                        32.3                       32.5        -0.2  \n",
      "3                        33.0                       33.0         0.0  \n",
      "\n",
      "Total Trades Reconciled: 4\n",
      "Total Quantity Mismatches: 600\n",
      "\n",
      "Total Quantity Difference: -600\n",
      "Total Price Difference: -0.5\n",
      "\n",
      "Reconciliation completed successfully.\n"
     ]
    }
   ],
   "source": [
    "# Summary of the reconciliation\n",
    "print_reconciliation_summary(new)\n"
   ]
  },
  {
   "cell_type": "code",
   "execution_count": null,
   "id": "b7dc50ff",
   "metadata": {},
   "outputs": [],
   "source": []
  }
 ],
 "metadata": {
  "kernelspec": {
   "display_name": ".venv",
   "language": "python",
   "name": "python3"
  },
  "language_info": {
   "codemirror_mode": {
    "name": "ipython",
    "version": 3
   },
   "file_extension": ".py",
   "mimetype": "text/x-python",
   "name": "python",
   "nbconvert_exporter": "python",
   "pygments_lexer": "ipython3",
   "version": "3.13.3"
  }
 },
 "nbformat": 4,
 "nbformat_minor": 5
}
